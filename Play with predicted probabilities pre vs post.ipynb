{
 "cells": [
  {
   "cell_type": "code",
   "execution_count": 3,
   "id": "888c8ce6",
   "metadata": {},
   "outputs": [],
   "source": [
    "dat = [[0.55733574, 0.44266426],\n",
    " [0.28536518,0.71463482],\n",
    " [0.68426602, 0.31573398],\n",
    " [0.96034978,0.03965022],\n",
    " [0.90364976,0.09635024],\n",
    " [0.84752886, 0.15247114],\n",
    " [0.98970784, 0.01029216],\n",
    " [0.8410129 , 0.1589871 ],\n",
    " [0.529742  , 0.470258  ],\n",
    " [0.95680533, 0.04319467],\n",
    " [0.90688848, 0.09311152],\n",
    " [0.90899591, 0.09100409],\n",
    " [0.95605203, 0.04394797],\n",
    " [0.29758753, 0.70241247],\n",
    " [0.18826882, 0.81173118],\n",
    " [0.64682776, 0.35317224],\n",
    " [0.56878608, 0.43121392],\n",
    " [0.93589202, 0.06410798],\n",
    " [0.8812459 , 0.1187541 ],\n",
    " [0.70840271, 0.29159729],\n",
    " [0.92618967, 0.07381033],\n",
    " [0.45407845, 0.54592155],\n",
    " [0.63341051, 0.36658949],\n",
    " [0.95470185, 0.04529815],\n",
    " [0.35797654, 0.64202346],\n",
    " [0.74498998 ,0.25501002],\n",
    " [0.8464423 , 0.1535577 ],\n",
    " [0.89156728, 0.10843272],\n",
    " [0.94360276, 0.05639724],\n",
    " [0.90509151, 0.09490849],\n",
    " [0.96379576, 0.03620424],\n",
    " [0.76811097, 0.23188903],\n",
    " [0.31501496, 0.68498504],\n",
    " [0.772997  , 0.227003  ],\n",
    " [0.90337024, 0.09662976],\n",
    " [0.78826719, 0.21173281],\n",
    " [0.92089694, 0.07910306],\n",
    " [0.89046765, 0.10953235],\n",
    " [0.90735179, 0.09264821],\n",
    " [0.97465011, 0.02534989],\n",
    " [0.9715716 , 0.0284284 ],\n",
    " [0.83606822, 0.16393178],\n",
    " [0.79014611, 0.20985389],\n",
    " [0.87183096, 0.12816904],\n",
    " [0.67887447, 0.32112553],\n",
    " [0.32103038, 0.67896962],\n",
    " [0.54797541, 0.45202459],\n",
    " [0.85468664, 0.14531336],\n",
    " [0.87065838, 0.12934162],\n",
    " [0.86653183, 0.13346817]]\n"
   ]
  },
  {
   "cell_type": "code",
   "execution_count": 6,
   "id": "2b42f71f",
   "metadata": {},
   "outputs": [],
   "source": [
    "d = []\n",
    "for row in dat:\n",
    "    d.append(row[0])"
   ]
  },
  {
   "cell_type": "code",
   "execution_count": 9,
   "id": "d245f0ca",
   "metadata": {},
   "outputs": [
    {
     "data": {
      "image/png": "[encoded data removed]",
      "text/plain": [
       "<Figure size 432x288 with 1 Axes>"
      ]
     },
     "metadata": {
      "needs_background": "light"
     },
     "output_type": "display_data"
    }
   ],
   "source": [
    "import matplotlib.pyplot as plt\n",
    "import numpy as np\n",
    "\n",
    "\n",
    "plt.hist(d)\n",
    "plt.show() "
   ]
  },
  {
   "cell_type": "code",
   "execution_count": 11,
   "id": "bb96241e",
   "metadata": {},
   "outputs": [],
   "source": [
    "pre = np.array([[9.60349781e-01, 3.96502191e-02],\n",
    " [3.15014959e-01, 6.84985041e-01],\n",
    " [8.91567282e-01, 1.08432718e-01],\n",
    " [2.85365185e-01, 7.14634815e-01],\n",
    " [9.20896937e-01, 7.91030633e-02],\n",
    " [4.13553319e-04, 9.99586447e-01],\n",
    " [9.56805330e-01, 4.31946695e-02],\n",
    " [1.85652993e-02, 9.81434701e-01],\n",
    " [2.01419551e-02, 9.79858045e-01],\n",
    " [3.14076247e-02, 9.68592375e-01],\n",
    " [4.37968578e-02, 9.56203142e-01],\n",
    " [8.81245903e-01, 1.18754097e-01],\n",
    " [1.03443278e-01, 8.96556722e-01],\n",
    " [9.71571600e-01, 2.84283998e-02],\n",
    " [1.17568308e-01, 8.82431692e-01],\n",
    " [8.36068221e-01, 1.63931779e-01],\n",
    " [1.53556714e-01, 8.46443286e-01],\n",
    " [7.56476373e-01, 2.43523627e-01],\n",
    " [9.06888484e-01, 9.31115160e-02],\n",
    " [6.27793641e-01, 3.72206359e-01],\n",
    " [3.91666363e-03, 9.96083336e-01],\n",
    " [1.73972349e-01, 8.26027651e-01],\n",
    " [3.07661125e-03, 9.96923389e-01],\n",
    " [7.07419975e-01, 2.92580025e-01],\n",
    " [9.63795761e-01, 3.62042391e-02],\n",
    " [1.17237020e-02, 9.88276298e-01],\n",
    " [1.88268819e-01, 8.11731181e-01],\n",
    " [8.47528858e-01, 1.52471142e-01],\n",
    " [1.78875483e-01, 8.21124517e-01],\n",
    " [9.03649759e-01, 9.63502405e-02],\n",
    " [1.27487107e-02, 9.87251289e-01],\n",
    " [5.35532587e-01, 4.64467413e-01],\n",
    " [7.68110967e-01, 2.31889033e-01],\n",
    " [4.13341316e-03, 9.95866587e-01],\n",
    " [1.17142798e-02, 9.88285720e-01],\n",
    " [6.46827760e-01, 3.53172240e-01],\n",
    " [7.78851504e-03, 9.92211485e-01],\n",
    " [6.20571185e-01, 3.79428815e-01],\n",
    " [8.71830959e-01, 1.28169041e-01],\n",
    " [7.72157032e-01, 2.27842968e-01],\n",
    " [2.20241054e-03, 9.97797589e-01],\n",
    " [8.66531829e-01, 1.33468171e-01],\n",
    " [5.87754871e-01, 4.12245129e-01],\n",
    " [5.58257777e-03, 9.94417422e-01],\n",
    " [1.12778817e-01, 8.87221183e-01],\n",
    " [5.57335741e-01, 4.42664259e-01],\n",
    " [9.43602197e-01, 5.63978032e-02],\n",
    " [9.08995906e-01, 9.10040944e-02],\n",
    " [8.54104698e-01, 1.45895302e-01],\n",
    " [2.97587525e-01, 7.02412475e-01]])"
   ]
  },
  {
   "cell_type": "code",
   "execution_count": 12,
   "id": "715be7fe",
   "metadata": {},
   "outputs": [],
   "source": [
    "d = []\n",
    "for row in pre:\n",
    "    d.append(row[0])"
   ]
  },
  {
   "cell_type": "code",
   "execution_count": 13,
   "id": "db8fd6e2",
   "metadata": {},
   "outputs": [
    {
     "data": {
      "image/png": "[encoded data removed]",
      "text/plain": [
       "<Figure size 432x288 with 1 Axes>"
      ]
     },
     "metadata": {
      "needs_background": "light"
     },
     "output_type": "display_data"
    }
   ],
   "source": [
    "plt.hist(d)\n",
    "plt.show() "
   ]
  },
  {
   "cell_type": "code",
   "execution_count": 14,
   "id": "23788cf7",
   "metadata": {},
   "outputs": [],
   "source": [
    "post = [[8.17157465e-01, 1.82842535e-01],\n",
    " [9.83635794e-01, 1.63642061e-02],\n",
    " [7.33822901e-01, 2.66177099e-01],\n",
    " [9.77138522e-01, 2.28614781e-02],\n",
    " [9.36731513e-01, 6.32684868e-02],\n",
    " [9.54898011e-01, 4.51019893e-02],\n",
    " [7.70688054e-02, 9.22931195e-01],\n",
    " [4.62467130e-02, 9.53753287e-01],\n",
    " [5.62128383e-01, 4.37871617e-01],\n",
    " [1.74937265e-03, 9.98250627e-01],\n",
    " [9.76435423e-01, 2.35645773e-02],\n",
    " [5.32441742e-02, 9.46755826e-01],\n",
    " [9.52773740e-01, 4.72262604e-02],\n",
    " [9.79318420e-01, 2.06815800e-02],\n",
    " [8.71889639e-02, 9.12811036e-01],\n",
    " [8.01293715e-01, 1.98706285e-01],\n",
    " [8.65510172e-01, 1.34489828e-01],\n",
    " [1.98906631e-01, 8.01093369e-01],\n",
    " [9.65808063e-01, 3.41919374e-02],\n",
    " [9.55820935e-01, 4.41790646e-02],\n",
    " [6.39455162e-01, 3.60544838e-01],\n",
    " [8.43903996e-01, 1.56096004e-01],\n",
    " [9.65921937e-01, 3.40780634e-02],\n",
    " [6.53843152e-02, 9.34615685e-01],\n",
    " [6.14523245e-01, 3.85476755e-01],\n",
    " [1.82660817e-01, 8.17339183e-01],\n",
    " [2.59860438e-02, 9.74013956e-01],\n",
    " [9.63780256e-01, 3.62197444e-02],\n",
    " [9.39945688e-01, 6.00543116e-02],\n",
    " [8.85409810e-01, 1.14590190e-01],\n",
    " [1.18437213e-01, 8.81562787e-01],\n",
    " [9.38640374e-01, 6.13596261e-02],\n",
    " [9.66143585e-01, 3.38564146e-02],\n",
    " [9.27906907e-01, 7.20930931e-02],\n",
    " [9.24656817e-01, 7.53431828e-02],\n",
    " [9.38914918e-01, 6.10850818e-02],\n",
    " [8.18584582e-01, 1.81415418e-01],\n",
    " [9.55757857e-01, 4.42421432e-02],\n",
    " [8.24776999e-02, 9.17522300e-01],\n",
    " [5.35957257e-01, 4.64042743e-01],\n",
    " [9.56886434e-01, 4.31135664e-02],\n",
    " [1.03978881e-01, 8.96021119e-01],\n",
    " [5.46806251e-01, 4.53193749e-01],\n",
    " [3.62845840e-01, 6.37154160e-01],\n",
    " [1.80106611e-01, 8.19893389e-01],\n",
    " [2.49444719e-01, 7.50555281e-01],\n",
    " [1.43018913e-04, 9.99856981e-01],\n",
    " [8.61264543e-01, 1.38735457e-01],\n",
    " [4.57217146e-02, 9.54278285e-01],\n",
    " [7.56310309e-01, 2.43689691e-01]]"
   ]
  },
  {
   "cell_type": "code",
   "execution_count": 16,
   "id": "b18b120b",
   "metadata": {},
   "outputs": [
    {
     "data": {
      "image/png": "[encoded data removed]",
      "text/plain": [
       "<Figure size 432x288 with 1 Axes>"
      ]
     },
     "metadata": {
      "needs_background": "light"
     },
     "output_type": "display_data"
    }
   ],
   "source": [
    "d = []\n",
    "for row in post:\n",
    "    d.append(row[0])\n",
    "plt.hist(d)\n",
    "plt.show() "
   ]
  },
  {
   "cell_type": "code",
   "execution_count": null,
   "id": "f8741066",
   "metadata": {},
   "outputs": [],
   "source": []
  }
 ],
 "metadata": {
  "kernelspec": {
   "display_name": "Python 3 (ipykernel)",
   "language": "python",
   "name": "python3"
  },
  "language_info": {
   "codemirror_mode": {
    "name": "ipython",
    "version": 3
   },
   "file_extension": ".py",
   "mimetype": "text/x-python",
   "name": "python",
   "nbconvert_exporter": "python",
   "pygments_lexer": "ipython3",
   "version": "3.9.12"
  }
 },
 "nbformat": 4,
 "nbformat_minor": 5
}
